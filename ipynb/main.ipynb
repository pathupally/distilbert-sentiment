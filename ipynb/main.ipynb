{
 "cells": [
  {
   "cell_type": "code",
   "execution_count": null,
   "metadata": {},
   "outputs": [],
   "source": [
    "from transformers import AutoTokenizer, AutoModelForSequenceClassification\n",
    "import torch\n",
    "from utils.dataset_utils import imdbDataSet\n",
    "import pandas as pd\n",
    "from torch.utils.data import DataLoader, Dataset\n",
    "from sklearn.model_selection import train_test_split\n",
    "import torch.nn.functional as F\n",
    "from time import time\n",
    "import numpy as np\n"
   ]
  },
  {
   "cell_type": "markdown",
   "metadata": {},
   "source": [
    "PreProcessing"
   ]
  },
  {
   "cell_type": "code",
   "execution_count": null,
   "metadata": {},
   "outputs": [],
   "source": [
    "df = pd.read_csv('data/raw/IMDB_Dataset.csv')\n",
    "train_dataset, test_dataset = train_test_split(df, test_size=0.2, shuffle=True, random_state=42, stratify=df['sentiment'])"
   ]
  },
  {
   "cell_type": "markdown",
   "metadata": {},
   "source": [
    "Upload Dataset and BERT"
   ]
  },
  {
   "cell_type": "code",
   "execution_count": null,
   "metadata": {},
   "outputs": [],
   "source": [
    "model_id = 'distilbert/distilbert-base-uncased-finetuned-sst-2-english'\n",
    "device = torch.device('mps')\n",
    "\n",
    "tokenizer = AutoTokenizer.from_pretrained(model_id)\n",
    "model = AutoModelForSequenceClassification.from_pretrained(model_id).to(device)\n",
    "\n",
    "model.eval()\n",
    "\n",
    "data = imdbDataSet(df=train_dataset, tokenizer=tokenizer)\n",
    "loader = DataLoader(\n",
    "    data, \n",
    "    batch_size=128, \n",
    "    shuffle=True,\n",
    "    num_workers=4,\n",
    "    prefetch_factor=4,\n",
    "    persistent_workers=4\n",
    ")"
   ]
  },
  {
   "cell_type": "code",
   "execution_count": null,
   "metadata": {},
   "outputs": [],
   "source": [
    "'''''\n",
    "num_batches = 0 \n",
    "probs = []\n",
    "with torch.no_grad():\n",
    "    for batch in loader:\n",
    "        start_time= time()\n",
    "        \n",
    "        input_id = batch['input_ids'].to(device)\n",
    "        attention_mask = batch['attention_mask'].to(device)\n",
    "        \n",
    "        outputs = model(input_ids=input_id, attention_mask=attention_mask)\n",
    "        batch_probs = F.softmax(outputs.logits, dim=1)\n",
    "        \n",
    "        probs.extend(batch_probs.cpu().tolist())\n",
    "        \n",
    "        num_batches += 1\n",
    "        end_time = time()\n",
    "        elapsed = end_time - start_time\n",
    "        if num_batches % 50 == 0:\n",
    "            print(f\"Batch Number: {num_batches} , Time Elapsed:{elapsed:.4f} seconds\")\n",
    "            \n",
    "probs = np.array(probs)\n",
    "predicted_labels = np.where(probs[:, 0] > 0.5, 'positive', 'negative')\n",
    "df = df.iloc[:len(probs)]\n",
    "accuracy = (predicted_labels == df['sentiment'].values).mean()\n",
    "\n",
    "print(f\"Accuracy{accuracy:.4f}\")\n",
    "        \n",
    "        \n",
    "'''        \n",
    "    \n"
   ]
  },
  {
   "cell_type": "markdown",
   "metadata": {},
   "source": []
  },
  {
   "cell_type": "markdown",
   "metadata": {},
   "source": [
    "Finetuning"
   ]
  },
  {
   "cell_type": "code",
   "execution_count": null,
   "metadata": {},
   "outputs": [],
   "source": [
    "from peft import get_peft_model, LoraConfig, TaskType\n",
    "from torch.optim import AdamW\n",
    "from tqdm import tqdm\n"
   ]
  },
  {
   "cell_type": "code",
   "execution_count": null,
   "metadata": {},
   "outputs": [],
   "source": [
    "config = LoraConfig(\n",
    "    r=8,\n",
    "    lora_alpha=16,\n",
    "    target_modules=[\"q_lin\", \"v_lin\"],\n",
    "    lora_dropout=0.05,\n",
    "    bias='none',\n",
    "    task_type= TaskType.SEQ_CLS,\n",
    "    inference_mode=False\n",
    ")\n",
    "model = get_peft_model(model, config).to(device)\n"
   ]
  },
  {
   "cell_type": "code",
   "execution_count": null,
   "metadata": {},
   "outputs": [],
   "source": [
    "from torch.nn.utils import clip_grad_norm_\n",
    "\n",
    "optimizer = AdamW(model.parameters(), lr=2e-5)\n",
    "\n",
    "for epoch in range(5):\n",
    "    model.train()\n",
    "    total_loss = 0\n",
    "    total_samples = 0\n",
    "    total_correct = 0\n",
    "    batch_count = 0 # \n",
    "\n",
    "    for batch in tqdm(loader, desc=f\"Epoch {epoch+1}\"):\n",
    "        input_ids = batch['input_ids'].to(device, non_blocking=True)\n",
    "        attention_mask = batch['attention_mask'].to(device, non_blocking=True)\n",
    "        labels = batch['sentiment'].to(device, non_blocking=True)\n",
    "\n",
    "        optimizer.zero_grad()\n",
    "        \n",
    "        outputs = model(input_ids=input_ids, attention_mask=attention_mask, labels=labels)\n",
    "        loss = outputs.loss\n",
    "        \n",
    "        loss.backward()\n",
    "        clip_grad_norm_(model.parameters(), 1.0)\n",
    "        optimizer.step()\n",
    "\n",
    "        total_loss += loss.item() * input_ids.size(0)\n",
    "        preds = outputs.logits.argmax(dim=-1)\n",
    "        total_correct += (preds == labels).sum().item()\n",
    "        total_samples += labels.size(0)\n",
    "        batch_count += 1\n",
    "        \n",
    "        if batch_count % 100 == 0:\n",
    "            avg_loss = total_loss / total_samples\n",
    "            accuracy = total_correct / total_samples\n",
    "            print(f\"Epoch {epoch+1} | Batch {batch_count} | \"\n",
    "                  f\"Loss: {avg_loss:.4f} | Acc: {accuracy:.4f}\")\n",
    "\n",
    "    avg_loss = total_loss / total_samples\n",
    "    epoch_accuracy = total_correct / total_samples\n",
    "    print(f\"\\nEpoch {epoch+1} Summary:\")\n",
    "    print(f\"  Avg Loss: {avg_loss:.4f}\")\n",
    "    print(f\"  Accuracy: {epoch_accuracy * 100:.2f}%\\n\")"
   ]
  }
 ],
 "metadata": {
  "kernelspec": {
   "display_name": "venv",
   "language": "python",
   "name": "python3"
  },
  "language_info": {
   "codemirror_mode": {
    "name": "ipython",
    "version": 3
   },
   "file_extension": ".py",
   "mimetype": "text/x-python",
   "name": "python",
   "nbconvert_exporter": "python",
   "pygments_lexer": "ipython3",
   "version": "3.13.5"
  }
 },
 "nbformat": 4,
 "nbformat_minor": 2
}
